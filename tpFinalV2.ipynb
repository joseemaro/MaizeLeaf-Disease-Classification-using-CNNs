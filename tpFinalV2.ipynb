{
 "cells": [
  {
   "cell_type": "code",
   "execution_count": null,
   "id": "b31caf21",
   "metadata": {},
   "outputs": [],
   "source": [
    "# === Paso 1: entorno =========================================================\n",
    "# Instalar (CPU). Si usás GPU NVIDIA, ver bloque \"GPU\" más abajo.\n",
    "!pip install -q tensorflow opencv-python numpy pandas scikit-learn matplotlib\n",
    "\n",
    "# ---------------------------------------------------------------------------\n",
    "# Imports y seeds\n",
    "import os, random, numpy as np, tensorflow as tf\n",
    "import matplotlib.pyplot as plt\n",
    "\n",
    "SEED = 123\n",
    "os.environ[\"PYTHONHASHSEED\"] = str(SEED)\n",
    "random.seed(SEED)\n",
    "np.random.seed(SEED)\n",
    "tf.keras.utils.set_random_seed(SEED)\n",
    "\n",
    "# Determinismo (puede ralentizar un poco)\n",
    "tf.config.experimental.enable_op_determinism()\n",
    "\n",
    "# Comprobación de dispositivo\n",
    "print(\"TensorFlow:\", tf.__version__)\n",
    "print(\"GPUs visibles:\", tf.config.list_physical_devices('GPU'))\n",
    "\n"
   ]
  },
  {
   "cell_type": "code",
   "execution_count": 4,
   "id": "f4ba6c73",
   "metadata": {},
   "outputs": [
    {
     "name": "stdout",
     "output_type": "stream",
     "text": [
      "TF: 2.20.0\n",
      "GPU visible: []\n",
      "OpenCV: 4.12.0\n",
      "sklearn: 1.7.1\n"
     ]
    }
   ],
   "source": [
    "import tensorflow as tf, cv2, sklearn, h5py, numpy as np\n",
    "print(\"TF:\", tf.__version__)\n",
    "print(\"GPU visible:\", tf.config.list_physical_devices('GPU'))\n",
    "print(\"OpenCV:\", cv2.__version__)\n",
    "print(\"sklearn:\", sklearn.__version__)\n",
    "\n"
   ]
  },
  {
   "cell_type": "code",
   "execution_count": null,
   "id": "58c55ab5",
   "metadata": {},
   "outputs": [],
   "source": [
    "DATA_DIR = \"data/PlantVillage\"   # aquí van las carpetas de clases (luego filtraremos MAIZ)\n",
    "RUN_DIR  = \"runs/maiz_exp1\"      # salidas de entrenamiento/evaluación\n",
    "MODEL_PATH = f\"{RUN_DIR}/maiz_efficientnetb3.h5\"\n"
   ]
  }
 ],
 "metadata": {
  "kernelspec": {
   "display_name": "Python 3",
   "language": "python",
   "name": "python3"
  },
  "language_info": {
   "codemirror_mode": {
    "name": "ipython",
    "version": 3
   },
   "file_extension": ".py",
   "mimetype": "text/x-python",
   "name": "python",
   "nbconvert_exporter": "python",
   "pygments_lexer": "ipython3",
   "version": "3.13.5"
  }
 },
 "nbformat": 4,
 "nbformat_minor": 5
}
